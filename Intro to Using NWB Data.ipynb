{
 "cells": [
  {
   "cell_type": "markdown",
   "metadata": {},
   "source": [
    "Intro to Using NWB Data\n",
    "============\n",
    "\n",
    "In this tutorial, you will learn :\n",
    "\n",
    "1. Parsing the **nwb data** \n",
    "2. Getting the **fluorescence traces**"
   ]
  },
  {
   "cell_type": "markdown",
   "metadata": {},
   "source": [
    "Getting Started\n",
    "---------------\n",
    "\n",
    "Be sure you've installed the *Allen SDK Package*.\n",
    "\n",
    "If you haven't, follow this link: [Allen SDK Package Installation](http://localhost:8000/beginners/installation/)"
   ]
  },
  {
   "cell_type": "markdown",
   "metadata": {},
   "source": [
    "Import Libraries \n",
    "\n",
    "The libraries we will be using are as follows:\n",
    "\n",
    "* **BrainObservatoryCache** contains methods for accessing and parsing our data\n",
    "* **pprint** for formatting our data, making it easy to read\n",
    "* **pyplot** provides a MATLAB-like plotting framework\n",
    "* **BrainObservatoryNwbDataSet** contains methods for retrieving information from NWB files.\n",
    "\n",
    "We will import the libraries into the Jupyter Notebook cells when we are ready to use them. We will first start with the **BrainObservatoryCache** and **pprint**."
   ]
  },
  {
   "cell_type": "code",
   "execution_count": 4,
   "metadata": {
    "collapsed": true
   },
   "outputs": [],
   "source": [
    "from allensdk.core.brain_observatory_cache import BrainObservatoryCache\n",
    "import pprint"
   ]
  },
  {
   "cell_type": "markdown",
   "metadata": {},
   "source": [
    "the four lines of code in the cell below quickly gets us access to an arbitrary **nwb data** file belonging to a session C, from a single **ophys experiment**. \n",
    "\n",
    "If confused, review the **Intro to Experiment Containers** or the **Intro to Ophys Experiments** tutorials. \n",
    "\n"
   ]
  },
  {
   "cell_type": "code",
   "execution_count": 8,
   "metadata": {
    "collapsed": true
   },
   "outputs": [],
   "source": [
    "#create the manifest file.\n",
    "boc = BrainObservatoryCache(manifest_file='boc/manifest.json')\n",
    "#get a single ophys experiment\n",
    "ophys_experiment= boc.get_ophys_experiments(experiment_container_ids=[511510729])\n",
    "#get the session C information.\n",
    "session_C_Metadata = ophys_experiment[0]\n",
    "#get the 'id' value from the session C Json object and pass that is as an \n",
    "#argument. this will give us the nwb data for the session C experiment.\n",
    "nwb_data = boc.get_ophys_experiment_data(session_C_Metadata['id'])\n"
   ]
  },
  {
   "cell_type": "markdown",
   "metadata": {},
   "source": [
    "1. Parsing Through the NWB File\n",
    "--------------------------------\n",
    "Now that we have the NWB data, we have methods that we can use to grab specific information from this file! \n",
    "Let's start by looking at the metadata that describes the data found in the nwb file using the *get_metadata()* method."
   ]
  },
  {
   "cell_type": "code",
   "execution_count": 6,
   "metadata": {
    "collapsed": false
   },
   "outputs": [
    {
     "data": {
      "text/plain": [
       "{'age_days': 81,\n",
       " 'cre_line': u'Rorb-IRES2-Cre/wt',\n",
       " 'device': u'Nikon A1R-MP multiphoton microscope',\n",
       " 'device_name': u'CAM2P.2',\n",
       " 'excitation_lambda': u'910 nanometers',\n",
       " 'experiment_container_id': 511510729,\n",
       " 'fov': u'400x400 microns (512 x 512 pixels)',\n",
       " 'genotype': u'Rorb-IRES2-Cre/wt;Camk2a-tTA/wt;Ai93(TITL-GCaMP6f)/Ai93(TITL-GCaMP6f)',\n",
       " 'imaging_depth_um': 275,\n",
       " 'indicator': u'GCaMP6f',\n",
       " 'ophys_experiment_id': 504614224,\n",
       " 'pipeline_version': u'2.0',\n",
       " 'session_start_time': datetime.datetime(2016, 2, 29, 16, 53, 9),\n",
       " 'session_type': u'three_session_C',\n",
       " 'sex': u'male',\n",
       " 'specimen_name': u'Rorb-IRES2-Cre;Camk2a-tTA;Ai93-228786',\n",
       " 'targeted_structure': u'VISl'}"
      ]
     },
     "execution_count": 6,
     "metadata": {},
     "output_type": "execute_result"
    }
   ],
   "source": [
    "nwb_data.get_metadata()"
   ]
  },
  {
   "cell_type": "markdown",
   "metadata": {},
   "source": [
    "Next we can try out the *get_cell_speciment_ids()* method! This will give us an array which contains a list of all the cells within the mouse cortex that were recorded from. "
   ]
  },
  {
   "cell_type": "code",
   "execution_count": 13,
   "metadata": {
    "collapsed": false,
    "scrolled": true
   },
   "outputs": [
    {
     "name": "stdout",
     "output_type": "stream",
     "text": [
      "[517424402 517424391 517424380 517424372 517425006 517427291 517424522\n",
      " 517424983 517426579 589161672 517424976 589159845 517426620 589161744\n",
      " 517427280 517424531 517427270 517424543 517427328 517427259 517427319\n",
      " 589167693 589167615 589167726 589167520 589167657 589167399 589167573\n",
      " 517427665 517427673 517427681 517428404 517423860 517428057 517423804\n",
      " 517423813 517423888 517428065 517427151 517425563 517427457 517425553\n",
      " 517427468 517427354 517427367 589163666 517423976 517425215 517425202\n",
      " 517426225 517426193 517423575 517426214 517426170 517423651 517426203\n",
      " 517427067 517424668 517424578 517424630 517424615 517424608 517425985\n",
      " 517425187 517425251 517425226 517425237 589168393 589159861 517425147\n",
      " 517425157 589162242 517424966 517426860 517426562 517424862 517426849\n",
      " 517424918 517424907 517424425 517424413 517424504 517424495 517428079\n",
      " 517424359 517424346 517423847 517427189 517426297 517428164 589161618\n",
      " 517426930 517427049 517426568 517426582 517426595 517424991 589163884\n",
      " 517424554 517423477 517428355 517426006 517423350 589166960 517424854\n",
      " 517426540 517426829 517426535 517424878 517426803 517426816 517427401\n",
      " 517425520 517426334 517425572 517427423 517428317 517425581 517427413\n",
      " 517427141 517426405 517427601 517427521 517427627 517427641 589167065\n",
      " 517424313 517424837 517424025 517425263 517424000 517424007 517424014\n",
      " 517423607 517424646 517424653 517424660 517427127 517425299 517427112\n",
      " 517427120 517428218 517427131 517427136 517425711 517425718 517427174\n",
      " 517425814 517425495 517425827 517425841 517427160 517425872 517426517\n",
      " 517427146 517428280 589167853 517425625 589164895 517427077 517425933\n",
      " 589168466 517428255 517424334 517423620 517426509 517427707 517427774\n",
      " 517427724 517427715 517427742 589167459 517427763 517427752 517427827\n",
      " 517424692 517424702 517423507 517423514 517423488 517423498 517428344\n",
      " 517423466 517426771 517427995 517426545 517427932 517427942 517427861\n",
      " 517427871 517427838 517427849 517425507 517426324 517425542 517426274\n",
      " 517426264 517426315 517426525 517426245 517425531 589167812 517423561\n",
      " 517423921 589167762 517427197 517424034 589168539 517424043 517424829\n",
      " 517428385 517426052 517427894 517427883 517423789 517426550 517428049\n",
      " 517427156 517423870 517423777 517427918 517427905 517426905 517426912\n",
      " 517426921 517424142 517427165 517427192 517423949 517423901 517423908\n",
      " 517425484 517423934 517427335 517427344 517426154 517426180 517427447\n",
      " 517426081 589160286 517426067 517426162 517425344 517427105 517428238\n",
      " 517427097 517427089 517427697 517423568 517424943 517424897 517424958\n",
      " 517424888 517424999 517426559 517424814 517426555 517425901 517425886\n",
      " 517426353 517426530 517426372 517426363 517426305 517426382 517428182\n",
      " 517426391 517428147]\n"
     ]
    }
   ],
   "source": [
    "cell_specimens = nwb_data.get_cell_specimen_ids()\n",
    "print(cell_specimens)"
   ]
  },
  {
   "cell_type": "markdown",
   "metadata": {},
   "source": [
    "let's now quickly get the length of this list to see how many cells were observed!"
   ]
  },
  {
   "cell_type": "code",
   "execution_count": 12,
   "metadata": {
    "collapsed": false
   },
   "outputs": [
    {
     "name": "stdout",
     "output_type": "stream",
     "text": [
      "268\n"
     ]
    }
   ],
   "source": [
    "print len(cell_specimens)"
   ]
  },
  {
   "cell_type": "markdown",
   "metadata": {},
   "source": [
    "Another thing we can look at is where specific cell specimen ids are located in the array for this session C recording. We use the **get_cell_specimen_indices()** method and pass a list of cell specimen ids we want to locate. This will then return to us the index values of these cell specimen ids in the array. "
   ]
  },
  {
   "cell_type": "code",
   "execution_count": 17,
   "metadata": {
    "collapsed": false
   },
   "outputs": [
    {
     "name": "stdout",
     "output_type": "stream",
     "text": [
      "[242, 267]\n"
     ]
    }
   ],
   "source": [
    "cell_indices = nwb_data.get_cell_specimen_indices([517425344, 517428147])\n",
    "print(cell_indices)"
   ]
  },
  {
   "cell_type": "markdown",
   "metadata": {},
   "source": [
    "2. Getting the Fluorescence Traces\n",
    "--------------------------------\n",
    "\n",
    "Now, let's start looking at the kinds of data visualizations you can make from the data. \n",
    "\n",
    "We will start by using the **get_corrected_fluorescence_traces()** method, and pass in an arbitrary cell specimen id from within the *cell_specimens* array above. "
   ]
  },
  {
   "cell_type": "code",
   "execution_count": 34,
   "metadata": {
    "collapsed": false
   },
   "outputs": [
    {
     "name": "stdout",
     "output_type": "stream",
     "text": [
      "(array([    5.42826,     5.46152,     5.49477, ...,  3521.03251,\n",
      "        3521.06577,  3521.09903]), array([[ 199.81019592,  179.89129639,  179.59910583, ...,  159.67230225,\n",
      "         140.38891602,  159.06082153]], dtype=float32))\n",
      "105713\n",
      "105713\n"
     ]
    }
   ],
   "source": [
    "fluorescence_traces = nwb_data.get_corrected_fluorescence_traces(cell_specimen_ids=[517425344])\n",
    "print(fluorescence_traces)\n",
    "#print the length of the first array\n",
    "print(len(fluorescence_traces[0]))\n",
    "#print the length of the second array \n",
    "print(len(fluorescence_traces[1][0]))\n"
   ]
  },
  {
   "cell_type": "markdown",
   "metadata": {},
   "source": [
    "Since the fluoresence traces contains two arrays, one for cell fluorescence and the other for time, we can save each array as a variable *time* and *corrected_traces*, as shown below."
   ]
  },
  {
   "cell_type": "code",
   "execution_count": 36,
   "metadata": {
    "collapsed": true
   },
   "outputs": [],
   "source": [
    "time, corrected_traces = fluorescence_traces"
   ]
  },
  {
   "cell_type": "markdown",
   "metadata": {},
   "source": [
    "Next, we can import matplotlib (don't forget in jupyter notebooks to use **%matlplotlib inline**) and plot a figure of time vs fluoresence. "
   ]
  },
  {
   "cell_type": "code",
   "execution_count": 44,
   "metadata": {
    "collapsed": false
   },
   "outputs": [
    {
     "data": {
      "image/png": "[encoded data removed]",
      "text/plain": [
       "<matplotlib.figure.Figure at 0xeac2358>"
      ]
     },
     "metadata": {},
     "output_type": "display_data"
    }
   ],
   "source": [
    "from matplotlib import pyplot as plt\n",
    "%matplotlib inline\n",
    "\n",
    "plt.figure(figsize=(14,4))\n",
    "plt.title(\"Neuropil-corrected Fluorescence Trace\")\n",
    "plt.plot(time, corrected_traces[0])\n",
    "plt.xlabel(\"Time\")\n",
    "plt.ylabel(\"Cell Fluorescence\")\n",
    "plt.show()"
   ]
  },
  {
   "cell_type": "markdown",
   "metadata": {},
   "source": [
    "There are quite a few other methods, such as the *get_roi_ids()*. We'll use these in further tutorials. "
   ]
  },
  {
   "cell_type": "code",
   "execution_count": 51,
   "metadata": {
    "collapsed": false
   },
   "outputs": [
    {
     "data": {
      "text/plain": [
       "array(['585685145', '585685149', '585685153', '585685157', '585685311',\n",
       "       '585685313', '585685315', '585685317', '585685319', '585685322',\n",
       "       '585685325', '585685329', '585685332', '585685336', '585685340',\n",
       "       '585685344', '585685348', '585685351', '585685354', '585685358',\n",
       "       '585685367', '585685382', '585685413', '585685416', '585685426',\n",
       "       '585685429', '585685432', '585685435', '585685444', '585685448',\n",
       "       '585685458', '585685480', '585685486', '585685491', '585685495',\n",
       "       '585685517', '585685528', '585685596', '585685599', '585685603',\n",
       "       '585685607', '585685610', '585685614', '585685616', '585685618',\n",
       "       '585685622', '585685624', '585685626', '585685629', '585685634',\n",
       "       '585685638', '585685643', '585685647', '585685651', '585685655',\n",
       "       '585685665', '585685680', '585685787', '585685792', '585685807',\n",
       "       '585685811', '585685813', '585685817', '585685819', '585685821',\n",
       "       '585685823', '585685825', '585685829', '585685833', '585685842',\n",
       "       '585685849', '585685854', '585685863', '585685868', '585685898',\n",
       "       '585685902', '585685904', '585685906', '585685908', '585685910',\n",
       "       '585685912', '585685914', '585685916', '585685918', '585685922',\n",
       "       '585685926', '585685934', '585685937', '585685941', '585685945',\n",
       "       '585685954', '585685963', '585685968', '585685972', '585685977',\n",
       "       '585686040', '585686046', '585686050', '585686054', '585686058',\n",
       "       '585686064', '585686066', '585686068', '585686072', '585686078',\n",
       "       '585686082', '585686084', '585686086', '585686088', '585686112',\n",
       "       '585686116', '585686120', '585686127', '585686132', '585686140',\n",
       "       '585686144', '585686148', '585686152', '585686156', '585686160',\n",
       "       '585686164', '585686169', '585686174', '585686178', '585686183',\n",
       "       '585686189', '585686195', '585686201', '585686208', '585686221',\n",
       "       '585686242', '585686244', '585686246', '585686248', '585686250',\n",
       "       '585686256', '585686260', '585686270', '585686274', '585686276',\n",
       "       '585686278', '585686283', '585686286', '585686290', '585686294',\n",
       "       '585686298', '585686370', '585686373', '585686381', '585686385',\n",
       "       '585686388', '585686392', '585686396', '585686400', '585686404',\n",
       "       '585686406', '585686408', '585686410', '585686412', '585686414',\n",
       "       '585686416', '585686420', '585686424', '585686426', '585686428',\n",
       "       '585686430', '585686436', '585686438', '585686440', '585686442',\n",
       "       '585686444', '585686446', '585686449', '585686453', '585686457',\n",
       "       '585686461', '585686465', '585686474', '585686491', '585686499',\n",
       "       '585686505', '585686513', '585686521', '585686537', '585686542',\n",
       "       '585686547', '585686552', '585686558', '585686564', '585686603',\n",
       "       '585686605', '585686607', '585686609', '585686611', '585686615',\n",
       "       '585686618', '585686620', '585686622', '585686626', '585686630',\n",
       "       '585686634', '585686672', '585686674', '585686676', '585686678',\n",
       "       '585686765', '585686776', '585686782', '585686787', '585686800',\n",
       "       '585686806', '585686820', '585686831', '585686838', '585686843',\n",
       "       '585686847', '585686849', '585686855', '585686860', '585686866',\n",
       "       '585686873', '585686877', '585686884', '585686888', '585686892',\n",
       "       '585686946', '585686955', '585686976', '585686998', '585687005',\n",
       "       '585687017', '585687025', '585687034', '585687046', '585687054',\n",
       "       '585687062', '585687071', '585687081', '585687089', '585687096',\n",
       "       '585687115', '585687122', '585687138', '585687240', '585687247',\n",
       "       '585687251', '585687255', '585687259', '585687264', '585687268',\n",
       "       '585687272', '585687276', '585687278', '585687282', '585687286',\n",
       "       '585687295', '585687301', '585687306', '585687311', '585687317',\n",
       "       '585687323', '585687330', '585687338', '585687344', '585687351',\n",
       "       '585687356', '585687451', '585687457'], \n",
       "      dtype='|S9')"
      ]
     },
     "execution_count": 51,
     "metadata": {},
     "output_type": "execute_result"
    }
   ],
   "source": [
    "nwb_data.get_roi_ids()"
   ]
  }
 ],
 "metadata": {
  "kernelspec": {
   "display_name": "Python 2",
   "language": "python",
   "name": "python2"
  },
  "language_info": {
   "codemirror_mode": {
    "name": "ipython",
    "version": 2
   },
   "file_extension": ".py",
   "mimetype": "text/x-python",
   "name": "python",
   "nbconvert_exporter": "python",
   "pygments_lexer": "ipython2",
   "version": "2.7.13"
  }
 },
 "nbformat": 4,
 "nbformat_minor": 2
}
