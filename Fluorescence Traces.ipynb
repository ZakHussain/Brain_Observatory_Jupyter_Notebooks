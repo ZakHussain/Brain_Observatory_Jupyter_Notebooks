{
 "cells": [
  {
   "cell_type": "markdown",
   "metadata": {},
   "source": [
    "Fluorescence Traces\n",
    "==========\n",
    "\n",
    "From this tutorial, you will learn: \n",
    "\n",
    "1. Making single cell fluorescence traces"
   ]
  },
  {
   "cell_type": "markdown",
   "metadata": {},
   "source": [
    "## Getting Started\n",
    "\n",
    "Be sure you've installed the *Allen SDK Package*.\n",
    "\n",
    "If you haven't, follow this link: [Allen SDK Package Installation](http://localhost:8000/beginners/installation/)"
   ]
  },
  {
   "cell_type": "markdown",
   "metadata": {},
   "source": [
    "## Import Libraries\n",
    "\n",
    "Let's begin by importing the necessary libraries. They are as follows: \n",
    "* **BrainObservatoryCache** contains functions for accessing and parsing our data\n",
    "* **pyplot** is a MATLAB-like plotting framework\n",
    "* **pprint** for formatting our data, making it easy to read\n",
    "* **pandas** a data analysis library "
   ]
  },
  {
   "cell_type": "code",
   "execution_count": 3,
   "metadata": {
    "collapsed": false
   },
   "outputs": [],
   "source": [
    "from allensdk.core.brain_observatory_cache import BrainObservatoryCache\n",
    "from matplotlib import pyplot as plt\n",
    "import pprint \n",
    "import pandas as pd"
   ]
  },
  {
   "cell_type": "markdown",
   "metadata": {},
   "source": [
    "# 1. Making Single Cell Fluorescence Traces\n",
    "\n",
    "In the jupyter notebook cell below, the first two lines are used to retrieve and store the ophys experiment metadata via the *get_ophys_experiments()* method.\n",
    "\n",
    "Using this data, you can search for an ophys experiment session id. in this case we used the id value 510390912.\n",
    "\n",
    "**Important**: Our current goal is to get single cell traces. A single Ophys Experiment Session will contain fluorescence traces from numerous different cells.\n"
   ]
  },
  {
   "cell_type": "code",
   "execution_count": 7,
   "metadata": {
    "collapsed": false
   },
   "outputs": [],
   "source": [
    "# get an arbitrary data set to work with\n",
    "boc = BrainObservatoryCache(manifest_file='boc/manifest.json')\n",
    "ophys_experiments = boc.get_ophys_experiments()\n",
    "\n",
    "# We've commented out the pprint for the sake of saving space. You can uncomment\n",
    "# the pprint line, and select an 'id' field value to put into the code below.\n",
    "\n",
    "# **Keep in mind that the *experiment_container_id* field is different from 'id'.\n",
    "# pprint.pprint(ophys_experiments)\n",
    "\n",
    "# nwb data for a an randomly selected ophys experiment session C\n",
    "data =  boc.get_ophys_experiment_data(510390912)"
   ]
  },
  {
   "cell_type": "markdown",
   "metadata": {},
   "source": [
    "With the nwb data for ophys experiment session C, id:510390912, we can call the *get_cell_specimen_ids()* method. This will return a list of all individual cell ids. "
   ]
  },
  {
   "cell_type": "code",
   "execution_count": 9,
   "metadata": {
    "collapsed": false
   },
   "outputs": [
    {
     "name": "stdout",
     "output_type": "stream",
     "text": [
      "[517401244 517401240 517401085 517400778 517400892 588874289 588874267\n",
      " 517400818 517400839 517400729 517401035 517400951 517401045 517401010\n",
      " 517400946 517401015 517401273 517400812 517401088 517401169 517401278\n",
      " 517401091 517401157 517401283 588875049 517400926 517400988 517400931\n",
      " 517401380 517401061 517401201 588877765 517401064 517400936 517401398\n",
      " 517401181 517401300 517401253 517401410 517400773 517400762 517401362\n",
      " 517401366 517401228 588876846 517401372 517400799 517401215 588877680\n",
      " 517401212 517400844 517400835 517401348 517400717 517401343 517400793\n",
      " 517401353 517400968 517400964 517401236 517401050 588877789 517401224\n",
      " 517401055 588877894 517400689 517400692 588877812 517400695 517400698\n",
      " 517400701 588873873 517400686 517400941 517400757 517400972 517400707\n",
      " 517400704 588877914 517401020 517401025 517400747 517401076 517400916\n",
      " 517401079 517400722 517401096]\n"
     ]
    }
   ],
   "source": [
    "cell_specimens = data.get_cell_specimen_ids()\n",
    "print cell_specimens"
   ]
  },
  {
   "cell_type": "markdown",
   "metadata": {},
   "source": [
    "Go ahead and select an arbitrary cell id from above (this will be refered to as the **cell specimen id** henceforth). Use the cell specimen id as an arguement for in the *cell_speciment_ids()* method.\n",
    "\n",
    "Viola! you have the fluorescence trace for a single cell! (:"
   ]
  },
  {
   "cell_type": "code",
   "execution_count": 13,
   "metadata": {
    "collapsed": false,
    "scrolled": true
   },
   "outputs": [
    {
     "name": "stdout",
     "output_type": "stream",
     "text": [
      "[    6.57058     6.60375     6.63692 ...,  3846.04761  3846.08078\n",
      "  3846.11396]\n",
      "[[ 277.06173706  260.95678711  288.45678711 ...,  289.44445801\n",
      "   269.74075317  274.39505005]]\n"
     ]
    }
   ],
   "source": [
    "fluorescence_data = data.get_fluorescence_traces(cell_specimen_ids=[517400818])\n",
    "\n",
    "# the fluorescence data is composed of arrays in a list, so save it to the \n",
    "#variables time & trace below\n",
    "time, trace = fluorescence_data\n",
    "\n",
    "#you can print out the time and trace to see what the datastructures look like. \n",
    "print time\n",
    "print trace\n",
    "\n",
    "# you also have the option of makeing the fluorescene_data into a data frame\n",
    "dataframe = pd.DataFrame.from_records(fluorescence_data)"
   ]
  },
  {
   "cell_type": "markdown",
   "metadata": {},
   "source": [
    "Finally, all that's left is you ulilize the inline matplotlib to create your\n",
    "Raw Fluorescence Trace!"
   ]
  },
  {
   "cell_type": "code",
   "execution_count": 15,
   "metadata": {
    "collapsed": false
   },
   "outputs": [
    {
     "data": {
      "image/png": "[encoded data removed]",
      "text/plain": [
       "<matplotlib.figure.Figure at 0x592e4a8>"
      ]
     },
     "metadata": {},
     "output_type": "display_data"
    }
   ],
   "source": [
    "%matplotlib inline\n",
    "\n",
    "plt.figure(figsize=(14,4))\n",
    "plt.title(\"Raw Fluorescence Trace\")\n",
    "plt.xlabel(\"time\")\n",
    "plt.ylabel(\" Cell Fluorescence\")\n",
    "plt.plot(time, trace[0])\n",
    "plt.show()\n"
   ]
  }
 ],
 "metadata": {
  "kernelspec": {
   "display_name": "Python 2",
   "language": "python",
   "name": "python2"
  },
  "language_info": {
   "codemirror_mode": {
    "name": "ipython",
    "version": 2
   },
   "file_extension": ".py",
   "mimetype": "text/x-python",
   "name": "python",
   "nbconvert_exporter": "python",
   "pygments_lexer": "ipython2",
   "version": "2.7.13"
  }
 },
 "nbformat": 4,
 "nbformat_minor": 2
}
